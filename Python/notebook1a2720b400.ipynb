{
 "cells": [
  {
   "cell_type": "code",
   "execution_count": 1,
   "metadata": {
    "_cell_guid": "b1076dfc-b9ad-4769-8c92-a6c4dae69d19",
    "_uuid": "8f2839f25d086af736a60e9eeb907d3b93b6e0e5",
    "execution": {
     "iopub.execute_input": "2020-12-07T18:39:37.651386Z",
     "iopub.status.busy": "2020-12-07T18:39:37.650722Z",
     "iopub.status.idle": "2020-12-07T18:39:43.652520Z",
     "shell.execute_reply": "2020-12-07T18:39:43.651916Z"
    },
    "papermill": {
     "duration": 6.018194,
     "end_time": "2020-12-07T18:39:43.652644",
     "exception": false,
     "start_time": "2020-12-07T18:39:37.634450",
     "status": "completed"
    },
    "tags": []
   },
   "outputs": [],
   "source": [
    "import time\n",
    "import pandas as pd\n",
    "import numpy as np\n",
    "import matplotlib.pyplot as plt\n",
    "from keras import models\n",
    "from keras.layers import Dense, Dropout\n",
    "from sklearn.preprocessing import MinMaxScaler \n",
    "import seaborn as sns\n",
    "#gerekli kutuphaneler eklendi"
   ]
  },
  {
   "cell_type": "code",
   "execution_count": 2,
   "metadata": {
    "_cell_guid": "79c7e3d0-c299-4dcb-8224-4455121ee9b0",
    "_uuid": "d629ff2d2480ee46fbb7e2d37f6b5fab8052498a",
    "execution": {
     "iopub.execute_input": "2020-12-07T18:39:43.683067Z",
     "iopub.status.busy": "2020-12-07T18:39:43.682476Z",
     "iopub.status.idle": "2020-12-07T18:39:43.704849Z",
     "shell.execute_reply": "2020-12-07T18:39:43.705355Z"
    },
    "papermill": {
     "duration": 0.042465,
     "end_time": "2020-12-07T18:39:43.705481",
     "exception": false,
     "start_time": "2020-12-07T18:39:43.663016",
     "status": "completed"
    },
    "tags": []
   },
   "outputs": [],
   "source": [
    "#Test veri setini okuyoruz.\n",
    "tnc_test = pd.read_csv('../input/titanic/test.csv')\n",
    "#Eğitim veri setini okuyoruz.\n",
    "tnc = pd.read_csv('../input/titanic/train.csv')\n"
   ]
  },
  {
   "cell_type": "code",
   "execution_count": 3,
   "metadata": {
    "execution": {
     "iopub.execute_input": "2020-12-07T18:39:43.728479Z",
     "iopub.status.busy": "2020-12-07T18:39:43.727556Z",
     "iopub.status.idle": "2020-12-07T18:39:43.998584Z",
     "shell.execute_reply": "2020-12-07T18:39:43.999108Z"
    },
    "papermill": {
     "duration": 0.283771,
     "end_time": "2020-12-07T18:39:43.999335",
     "exception": false,
     "start_time": "2020-12-07T18:39:43.715564",
     "status": "completed"
    },
    "tags": []
   },
   "outputs": [
    {
     "data": {
      "text/html": [
       "<div>\n",
       "<style scoped>\n",
       "    .dataframe tbody tr th:only-of-type {\n",
       "        vertical-align: middle;\n",
       "    }\n",
       "\n",
       "    .dataframe tbody tr th {\n",
       "        vertical-align: top;\n",
       "    }\n",
       "\n",
       "    .dataframe thead th {\n",
       "        text-align: right;\n",
       "    }\n",
       "</style>\n",
       "<table border=\"1\" class=\"dataframe\">\n",
       "  <thead>\n",
       "    <tr style=\"text-align: right;\">\n",
       "      <th></th>\n",
       "      <th>Toplam</th>\n",
       "      <th>Yüzde</th>\n",
       "    </tr>\n",
       "  </thead>\n",
       "  <tbody>\n",
       "    <tr>\n",
       "      <th>Cabin</th>\n",
       "      <td>687</td>\n",
       "      <td>77.104377</td>\n",
       "    </tr>\n",
       "    <tr>\n",
       "      <th>Age</th>\n",
       "      <td>177</td>\n",
       "      <td>19.865320</td>\n",
       "    </tr>\n",
       "    <tr>\n",
       "      <th>Embarked</th>\n",
       "      <td>2</td>\n",
       "      <td>0.224467</td>\n",
       "    </tr>\n",
       "  </tbody>\n",
       "</table>\n",
       "</div>"
      ],
      "text/plain": [
       "          Toplam      Yüzde\n",
       "Cabin        687  77.104377\n",
       "Age          177  19.865320\n",
       "Embarked       2   0.224467"
      ]
     },
     "execution_count": 3,
     "metadata": {},
     "output_type": "execute_result"
    },
    {
     "data": {
      "image/png": "[encoded data removed]",
      "text/plain": [
       "<Figure size 576x432 with 1 Axes>"
      ]
     },
     "metadata": {
      "needs_background": "light"
     },
     "output_type": "display_data"
    }
   ],
   "source": [
    "#eksik bilgi içeren sütunları doldurmak için tespit etmek\n",
    "def missingdata(data):\n",
    "    total = data.isnull().sum().sort_values(ascending = False)\n",
    "    percent = (data.isnull().sum()/data.isnull().count()*100).sort_values(ascending = False)\n",
    "    ms=pd.concat([total, percent], axis=1, keys=['Toplam', 'Yüzde'])\n",
    "    ms= ms[ms[\"Yüzde\"] > 0]\n",
    "    f,ax =plt.subplots(figsize=(8,6))\n",
    "    plt.xticks(rotation='90')\n",
    "    fig=sns.barplot(ms.index, ms[\"Yüzde\"],color=\"green\",alpha=0.8)\n",
    "    plt.xlabel('Sütunlar', fontsize=15)\n",
    "    plt.ylabel('Eksik Sütun Yüzdesi', fontsize=15)\n",
    "    plt.title('Eksik Sütunlar', fontsize=15)\n",
    "    return ms\n",
    "#eğitim veri setindeki eksik değerler olan sütunlar\n",
    "tnc.columns[tnc.isna().any()]\n",
    "#test veri setindeki eksik değerler olan sütunlar\n",
    "tnc_test.columns[tnc_test.isna().any()]\n",
    "\n",
    "missingdata(tnc)\n"
   ]
  },
  {
   "cell_type": "code",
   "execution_count": 4,
   "metadata": {
    "execution": {
     "iopub.execute_input": "2020-12-07T18:39:44.025679Z",
     "iopub.status.busy": "2020-12-07T18:39:44.024773Z",
     "iopub.status.idle": "2020-12-07T18:39:44.046582Z",
     "shell.execute_reply": "2020-12-07T18:39:44.047247Z"
    },
    "papermill": {
     "duration": 0.03648,
     "end_time": "2020-12-07T18:39:44.047454",
     "exception": false,
     "start_time": "2020-12-07T18:39:44.010974",
     "status": "completed"
    },
    "tags": []
   },
   "outputs": [
    {
     "data": {
      "text/html": [
       "<div>\n",
       "<style scoped>\n",
       "    .dataframe tbody tr th:only-of-type {\n",
       "        vertical-align: middle;\n",
       "    }\n",
       "\n",
       "    .dataframe tbody tr th {\n",
       "        vertical-align: top;\n",
       "    }\n",
       "\n",
       "    .dataframe thead th {\n",
       "        text-align: right;\n",
       "    }\n",
       "</style>\n",
       "<table border=\"1\" class=\"dataframe\">\n",
       "  <thead>\n",
       "    <tr style=\"text-align: right;\">\n",
       "      <th></th>\n",
       "      <th>PassengerId</th>\n",
       "      <th>Survived</th>\n",
       "      <th>Pclass</th>\n",
       "      <th>Name</th>\n",
       "      <th>Sex</th>\n",
       "      <th>Age</th>\n",
       "      <th>SibSp</th>\n",
       "      <th>Parch</th>\n",
       "      <th>Ticket</th>\n",
       "      <th>Fare</th>\n",
       "      <th>Cabin</th>\n",
       "      <th>Embarked</th>\n",
       "    </tr>\n",
       "  </thead>\n",
       "  <tbody>\n",
       "    <tr>\n",
       "      <th>0</th>\n",
       "      <td>1</td>\n",
       "      <td>0</td>\n",
       "      <td>3</td>\n",
       "      <td>Braund, Mr. Owen Harris</td>\n",
       "      <td>male</td>\n",
       "      <td>22.0</td>\n",
       "      <td>1</td>\n",
       "      <td>0</td>\n",
       "      <td>A/5 21171</td>\n",
       "      <td>7.2500</td>\n",
       "      <td>NaN</td>\n",
       "      <td>S</td>\n",
       "    </tr>\n",
       "    <tr>\n",
       "      <th>1</th>\n",
       "      <td>2</td>\n",
       "      <td>1</td>\n",
       "      <td>1</td>\n",
       "      <td>Cumings, Mrs. John Bradley (Florence Briggs Th...</td>\n",
       "      <td>female</td>\n",
       "      <td>38.0</td>\n",
       "      <td>1</td>\n",
       "      <td>0</td>\n",
       "      <td>PC 17599</td>\n",
       "      <td>71.2833</td>\n",
       "      <td>C85</td>\n",
       "      <td>C</td>\n",
       "    </tr>\n",
       "    <tr>\n",
       "      <th>2</th>\n",
       "      <td>3</td>\n",
       "      <td>1</td>\n",
       "      <td>3</td>\n",
       "      <td>Heikkinen, Miss. Laina</td>\n",
       "      <td>female</td>\n",
       "      <td>26.0</td>\n",
       "      <td>0</td>\n",
       "      <td>0</td>\n",
       "      <td>STON/O2. 3101282</td>\n",
       "      <td>7.9250</td>\n",
       "      <td>NaN</td>\n",
       "      <td>S</td>\n",
       "    </tr>\n",
       "    <tr>\n",
       "      <th>3</th>\n",
       "      <td>4</td>\n",
       "      <td>1</td>\n",
       "      <td>1</td>\n",
       "      <td>Futrelle, Mrs. Jacques Heath (Lily May Peel)</td>\n",
       "      <td>female</td>\n",
       "      <td>35.0</td>\n",
       "      <td>1</td>\n",
       "      <td>0</td>\n",
       "      <td>113803</td>\n",
       "      <td>53.1000</td>\n",
       "      <td>C123</td>\n",
       "      <td>S</td>\n",
       "    </tr>\n",
       "    <tr>\n",
       "      <th>4</th>\n",
       "      <td>5</td>\n",
       "      <td>0</td>\n",
       "      <td>3</td>\n",
       "      <td>Allen, Mr. William Henry</td>\n",
       "      <td>male</td>\n",
       "      <td>35.0</td>\n",
       "      <td>0</td>\n",
       "      <td>0</td>\n",
       "      <td>373450</td>\n",
       "      <td>8.0500</td>\n",
       "      <td>NaN</td>\n",
       "      <td>S</td>\n",
       "    </tr>\n",
       "  </tbody>\n",
       "</table>\n",
       "</div>"
      ],
      "text/plain": [
       "   PassengerId  Survived  Pclass  \\\n",
       "0            1         0       3   \n",
       "1            2         1       1   \n",
       "2            3         1       3   \n",
       "3            4         1       1   \n",
       "4            5         0       3   \n",
       "\n",
       "                                                Name     Sex   Age  SibSp  \\\n",
       "0                            Braund, Mr. Owen Harris    male  22.0      1   \n",
       "1  Cumings, Mrs. John Bradley (Florence Briggs Th...  female  38.0      1   \n",
       "2                             Heikkinen, Miss. Laina  female  26.0      0   \n",
       "3       Futrelle, Mrs. Jacques Heath (Lily May Peel)  female  35.0      1   \n",
       "4                           Allen, Mr. William Henry    male  35.0      0   \n",
       "\n",
       "   Parch            Ticket     Fare Cabin Embarked  \n",
       "0      0         A/5 21171   7.2500   NaN        S  \n",
       "1      0          PC 17599  71.2833   C85        C  \n",
       "2      0  STON/O2. 3101282   7.9250   NaN        S  \n",
       "3      0            113803  53.1000  C123        S  \n",
       "4      0            373450   8.0500   NaN        S  "
      ]
     },
     "execution_count": 4,
     "metadata": {},
     "output_type": "execute_result"
    }
   ],
   "source": [
    "def getName(name):\n",
    "    if '.' in name:\n",
    "        return name.split(',')[1].split('.')[0].strip()\n",
    "    else:\n",
    "        return 'Bilinmiyor'\n",
    " \n",
    "def replaceName(x):\n",
    "    title = x['Title']\n",
    "    if title in ['Capt', 'Col', 'Don', 'Jonkheer', 'Major', 'Rev', 'Sir']:\n",
    "        return 'Mr'\n",
    "    elif title in ['the Countess', 'Mme', 'Lady']:\n",
    "        return 'Mrs'\n",
    "    elif title in ['Mlle', 'Ms']:\n",
    "        return 'Miss'\n",
    "    elif title =='Dr':\n",
    "        if x['Sex']=='male':\n",
    "            return 'Mr'\n",
    "        else:\n",
    "            return 'Mrs'\n",
    "    else:\n",
    "        return title\n",
    "    \n",
    "tnc.head()"
   ]
  },
  {
   "cell_type": "code",
   "execution_count": 5,
   "metadata": {
    "execution": {
     "iopub.execute_input": "2020-12-07T18:39:44.084025Z",
     "iopub.status.busy": "2020-12-07T18:39:44.083172Z",
     "iopub.status.idle": "2020-12-07T18:39:44.097480Z",
     "shell.execute_reply": "2020-12-07T18:39:44.098010Z"
    },
    "papermill": {
     "duration": 0.0332,
     "end_time": "2020-12-07T18:39:44.098172",
     "exception": false,
     "start_time": "2020-12-07T18:39:44.064972",
     "status": "completed"
    },
    "tags": []
   },
   "outputs": [],
   "source": [
    "def eksikSutunDoldur(tnc):    \n",
    "    # Eksik değerler yerine ortalama olarak en çok kullanılanları yazdık.\n",
    "    tnc['Embarked'].fillna(tnc['Embarked'].mode()[0], inplace=True)\n",
    "    # Eksik yaşlara ortalama yaş\n",
    "    tnc['Age'].fillna(tnc['Age'].median(), inplace=True)\n",
    "    # Eksik fiyatlara ort. fiyatı yazıldı\n",
    "    tnc['Fare'].fillna(tnc['Fare'].median(), inplace=True)\n",
    "    \n",
    "    # Yaş, Kardeş Sayısı, Ebeveyn ve Çocuk Sayısı ve Bilet Fiyat verilerini 0 ile 1 arası ölçeklendirdik.\n",
    "    scaler = MinMaxScaler()\n",
    "    tnc[['Age','SibSp','Parch','Fare']] = scaler.fit_transform(tnc[['Age','SibSp','Parch','Fare']])\n",
    "    \n",
    "    # Cinsiyetleri daha verimlilik açısından 0 ve 1 ile yazdık.\n",
    "    tnc['Sex'] = tnc['Sex'].map({'female':0,'male':1}).astype(int)\n",
    "    \n",
    "    #One Hot Encoding(OHE): Sütunları bölüp 1,0 matrisiyle yazmak.\n",
    "    \n",
    "    # Class sütununa OHE uyguladık.\n",
    "    tnc_class = pd.get_dummies(tnc['Pclass'],prefix='Class')\n",
    "    tnc[tnc_class.columns] = tnc_class\n",
    "    \n",
    "    # Biniş limanına OHE uyguladık.\n",
    "    tnc_emb = pd.get_dummies(tnc['Embarked'],prefix='Emb')\n",
    "    tnc[tnc_emb.columns] = tnc_emb\n",
    "    \n",
    "    # İsimleri cinsiyetleştirdik.\n",
    "    tnc['Title'] = tnc['Name'].map(lambda x: getName(x))\n",
    "    tnc['Title'] = tnc.apply(replaceName, axis=1)\n",
    "    # Son isimlere de OHE uyguladık.\n",
    "    tnc_title = pd.get_dummies(tnc['Title'],prefix='Title')\n",
    "    tnc[tnc_title.columns] = tnc_title\n",
    "    \n",
    "    return"
   ]
  },
  {
   "cell_type": "code",
   "execution_count": 6,
   "metadata": {
    "execution": {
     "iopub.execute_input": "2020-12-07T18:39:44.138012Z",
     "iopub.status.busy": "2020-12-07T18:39:44.137178Z",
     "iopub.status.idle": "2020-12-07T18:39:44.170186Z",
     "shell.execute_reply": "2020-12-07T18:39:44.169338Z"
    },
    "papermill": {
     "duration": 0.059269,
     "end_time": "2020-12-07T18:39:44.170348",
     "exception": false,
     "start_time": "2020-12-07T18:39:44.111079",
     "status": "completed"
    },
    "tags": []
   },
   "outputs": [],
   "source": [
    "eksikSutunDoldur(tnc)\n",
    "tnc.columns #Son sütun değerlerimiz içerisinde kurtulma olasılığını etkileyebilecek sütunları belirledik.\n",
    "#Modelde kullanabileceğimiz sütunlar aşağıdaki gibidir:\n",
    "columns = ['Sex', 'Age', 'SibSp', 'Parch', 'Fare', 'Class_1', 'Class_2',\n",
    "       'Class_3', 'Emb_C', 'Emb_Q', 'Emb_S', 'Title_Master',\n",
    "       'Title_Miss', 'Title_Mr', 'Title_Mrs']"
   ]
  },
  {
   "cell_type": "code",
   "execution_count": 7,
   "metadata": {
    "execution": {
     "iopub.execute_input": "2020-12-07T18:39:44.213757Z",
     "iopub.status.busy": "2020-12-07T18:39:44.211818Z",
     "iopub.status.idle": "2020-12-07T18:39:44.217223Z",
     "shell.execute_reply": "2020-12-07T18:39:44.216569Z"
    },
    "papermill": {
     "duration": 0.028973,
     "end_time": "2020-12-07T18:39:44.217385",
     "exception": false,
     "start_time": "2020-12-07T18:39:44.188412",
     "status": "completed"
    },
    "tags": []
   },
   "outputs": [],
   "source": [
    "# Sütunları bir numpy arrayına atadık. Bunu bir dimension olarak aldık, X\n",
    "X = np.array(tnc[columns])\n",
    "# Hayatta kalanları da diğer dimension olarak aldık, Y\n",
    "y = np.array(tnc['Survived'])"
   ]
  },
  {
   "cell_type": "code",
   "execution_count": 8,
   "metadata": {
    "execution": {
     "iopub.execute_input": "2020-12-07T18:39:44.262484Z",
     "iopub.status.busy": "2020-12-07T18:39:44.261528Z",
     "iopub.status.idle": "2020-12-07T18:39:44.334564Z",
     "shell.execute_reply": "2020-12-07T18:39:44.335223Z"
    },
    "papermill": {
     "duration": 0.099247,
     "end_time": "2020-12-07T18:39:44.335415",
     "exception": false,
     "start_time": "2020-12-07T18:39:44.236168",
     "status": "completed"
    },
    "tags": []
   },
   "outputs": [],
   "source": [
    "network = models.Sequential()\n",
    "#Bir sinir ağı oluşturuyoruz.\n",
    "network.add(Dense(64, activation='relu', ))\n",
    "network.add(Dropout(rate=0.2))\n",
    "network.add(Dense(32, activation='relu'))\n",
    "network.add(Dropout(rate=0.2))\n",
    "network.add(Dense(12, activation='relu'))\n",
    "network.add(Dropout(rate=0.1))\n",
    "network.add(Dense(1, activation='sigmoid'))"
   ]
  },
  {
   "cell_type": "code",
   "execution_count": 9,
   "metadata": {
    "execution": {
     "iopub.execute_input": "2020-12-07T18:39:44.387675Z",
     "iopub.status.busy": "2020-12-07T18:39:44.386797Z",
     "iopub.status.idle": "2020-12-07T18:39:50.514937Z",
     "shell.execute_reply": "2020-12-07T18:39:50.514159Z"
    },
    "papermill": {
     "duration": 6.160934,
     "end_time": "2020-12-07T18:39:50.515049",
     "exception": false,
     "start_time": "2020-12-07T18:39:44.354115",
     "status": "completed"
    },
    "tags": []
   },
   "outputs": [
    {
     "data": {
      "image/png": "[encoded data removed]",
      "text/plain": [
       "<Figure size 432x288 with 1 Axes>"
      ]
     },
     "metadata": {
      "needs_background": "light"
     },
     "output_type": "display_data"
    }
   ],
   "source": [
    "#Modeli Adam optimizasyon algoritmasını kullanarak derliyoruz. İkili sınıflandırma için de binary_crossentropy amaç fonksiyonunu kullanıyoruz.\n",
    "network.compile(optimizer='adam',\n",
    "                loss='binary_crossentropy',\n",
    "                metrics=['accuracy'])\n",
    " \n",
    "# Geçmiş ölçümleri eğitip kaydediyoruz.\n",
    "history = network.fit(X, y, epochs=50, batch_size=10, verbose=0, validation_split=0.33)\n",
    " \n",
    "# Son çıktının grafiğini çizdiriyoruz.\n",
    "plt.plot(history.history['accuracy'], label = 'eğitim')\n",
    "plt.plot(history.history['val_accuracy'], label = 'test')\n",
    "plt.title('Oluşturulan Modelin Doğruluğu')\n",
    "plt.ylabel('Doğruluk')\n",
    "plt.xlabel('Zaman')\n",
    "plt.legend(loc='lower right')\n",
    "plt.show()"
   ]
  },
  {
   "cell_type": "code",
   "execution_count": 10,
   "metadata": {
    "execution": {
     "iopub.execute_input": "2020-12-07T18:39:50.545652Z",
     "iopub.status.busy": "2020-12-07T18:39:50.544992Z",
     "iopub.status.idle": "2020-12-07T18:39:50.692916Z",
     "shell.execute_reply": "2020-12-07T18:39:50.692173Z"
    },
    "papermill": {
     "duration": 0.164155,
     "end_time": "2020-12-07T18:39:50.693035",
     "exception": false,
     "start_time": "2020-12-07T18:39:50.528880",
     "status": "completed"
    },
    "tags": []
   },
   "outputs": [],
   "source": [
    "eksikSutunDoldur(tnc_test)\n",
    " \n",
    "X_pred = np.array(tnc_test[columns])\n",
    "y_pred = network.predict(X_pred)\n",
    " \n",
    "y_pred = y_pred.reshape(418)\n",
    " \n",
    "# Yolcu ID ile Hayatta Kalma oranlarını birleştirdik.\n",
    "tnc_subm = pd.DataFrame({'PassengerId':tnc_test['PassengerId'],'Survived':y_pred})\n"
   ]
  },
  {
   "cell_type": "code",
   "execution_count": 11,
   "metadata": {
    "execution": {
     "iopub.execute_input": "2020-12-07T18:39:50.730074Z",
     "iopub.status.busy": "2020-12-07T18:39:50.728154Z",
     "iopub.status.idle": "2020-12-07T18:39:50.730781Z",
     "shell.execute_reply": "2020-12-07T18:39:50.731293Z"
    },
    "papermill": {
     "duration": 0.024335,
     "end_time": "2020-12-07T18:39:50.731426",
     "exception": false,
     "start_time": "2020-12-07T18:39:50.707091",
     "status": "completed"
    },
    "tags": []
   },
   "outputs": [],
   "source": [
    "#Hatta kalma oranlarını kesin olarak tahmin için 1 ve 0'a dönüştürdük.\n",
    "def binary(x):\n",
    "#Hayatta kalma oranı 0.5 üzerindeyse hayatta kaldığını düşüneceğiz.\n",
    "    if x >= 0.5:\n",
    "        return 1\n",
    "    else:\n",
    "        return 0\n",
    "    \n",
    "# Survived sütunundaki tüm değerleri binary değere dönüştürdük.\n",
    "tnc_subm['Survived'] = tnc_subm['Survived'].apply(binary)"
   ]
  },
  {
   "cell_type": "code",
   "execution_count": 12,
   "metadata": {
    "execution": {
     "iopub.execute_input": "2020-12-07T18:39:50.763915Z",
     "iopub.status.busy": "2020-12-07T18:39:50.763267Z",
     "iopub.status.idle": "2020-12-07T18:39:50.977649Z",
     "shell.execute_reply": "2020-12-07T18:39:50.977095Z"
    },
    "papermill": {
     "duration": 0.232607,
     "end_time": "2020-12-07T18:39:50.977753",
     "exception": false,
     "start_time": "2020-12-07T18:39:50.745146",
     "status": "completed"
    },
    "tags": []
   },
   "outputs": [
    {
     "name": "stdout",
     "output_type": "stream",
     "text": [
      "Sonuç Dosyası: G171210021_G171210375_BigData.csv\n"
     ]
    }
   ],
   "source": [
    "time_string = time.strftime(\"%Y%m%d-%H%M%S\")\n",
    "filename = 'G171210021_G171210375_BigData' '.csv'\n",
    "tnc_subm.to_csv(filename,index=False)\n",
    " \n",
    "print('Sonuç Dosyası: ' + filename)\n",
    "\n",
    "#En sonunda ID ve binary olarak kurtulanları gösteren bir csv sonuç dosyası oluşturduk.\n",
    "#%82-88 arası bir sonuç aldık, elbette %100 yapanlar var ancak bunun için farklı algoritmalardan yararlanmak gerekiyor.\n",
    "#G171210021 - Onur Osman Güle\n",
    "#G171210375 - Fatih Enis Kaya\n",
    "#Sakarya Üniversitesi Bilgisayar Mühendisliği"
   ]
  },
  {
   "cell_type": "code",
   "execution_count": null,
   "metadata": {
    "papermill": {
     "duration": 0.014125,
     "end_time": "2020-12-07T18:39:51.006100",
     "exception": false,
     "start_time": "2020-12-07T18:39:50.991975",
     "status": "completed"
    },
    "tags": []
   },
   "outputs": [],
   "source": []
  }
 ],
 "metadata": {
  "kernelspec": {
   "display_name": "Python 3",
   "language": "python",
   "name": "python3"
  },
  "language_info": {
   "codemirror_mode": {
    "name": "ipython",
    "version": 3
   },
   "file_extension": ".py",
   "mimetype": "text/x-python",
   "name": "python",
   "nbconvert_exporter": "python",
   "pygments_lexer": "ipython3",
   "version": "3.7.6"
  },
  "papermill": {
   "duration": 17.699188,
   "end_time": "2020-12-07T18:39:51.127315",
   "environment_variables": {},
   "exception": null,
   "input_path": "__notebook__.ipynb",
   "output_path": "__notebook__.ipynb",
   "parameters": {},
   "start_time": "2020-12-07T18:39:33.428127",
   "version": "2.1.0"
  }
 },
 "nbformat": 4,
 "nbformat_minor": 4
}
